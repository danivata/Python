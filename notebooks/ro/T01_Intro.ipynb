{
  "nbformat": 4,
  "nbformat_minor": 0,
  "metadata": {
    "colab": {
      "provenance": []
    },
    "kernelspec": {
      "name": "python3",
      "display_name": "Python 3"
    },
    "language_info": {
      "name": "python"
    }
  },
  "cells": [
    {
      "cell_type": "markdown",
      "source": [
        "<img src='https://upload.wikimedia.org/wikipedia/commons/c/c3/Python-logo-notext.svg' width=50/>\n",
        "<img src='https://upload.wikimedia.org/wikipedia/commons/d/d0/Google_Colaboratory_SVG_Logo.svg' width=70/>\n",
        "\n",
        "# <font size=50>Introducere în Python folosind Google Colab</font>\n",
        "<font color=\"#e8710a\">© Adriana STAN, 2022</font>\n",
        "\n",
        "<font color=\"#e8710a\">Contributor: Gabriel ERDEI </font>\n",
        "\n",
        "[![Open In Colab](https://colab.research.google.com/assets/colab-badge.svg)](https://colab.research.google.com/github/adrianastan/python-intro/blob/main/notebooks/ro/T01_Intro.ipynb)\n",
        "\n"
      ],
      "metadata": {
        "id": "YF8ZVdYI97Vi"
      }
    },
    {
      "cell_type": "markdown",
      "source": [
        "Acest set de tutoriale introduce noțiunile de bază ale limbajului de programare Python. Tutorialele sunt structurate pe principalele capitole ale unui limbaj de programare și includ un set extins de exemple de cod. Trebuie să menționăm faptul că aceste tutoriale nu sunt orientate către partea teoretică a programării, ci către înțelegerea și aprofundarea sintaxei și a conceptelor Python, de către programatori.\n",
        "\n",
        "Pentru a facilita înțelegerea și utilizarea cât mai rapidă a limbajului Python, tutorialele sunt implementate și prezentate prin intermediul mediului interactiv Google Colab.\n",
        "\n",
        "**Cuprinsul tutorialelor**\n",
        "\n",
        "*   T01. Generalități ale limbajului. Mediul de lucru.\n",
        "*   T02. Tipuri de date și operatori.\n",
        "*   T03. Instrucțiuni și structuri de control a fluxului.\n",
        "*   T04. Funcții și module.\n",
        "*   T05. Programarea obiectuală. Excepții.\n",
        "*   T06. Lucrul cu fișiere.\n",
        "\n",
        "---"
      ],
      "metadata": {
        "id": "mogGxDVi-BJ4"
      }
    },
    {
      "cell_type": "markdown",
      "source": [
        "# <font color=\"#e8710a\">T01. Mediul de lucru Google Colab și primul cod Python</font>"
      ],
      "metadata": {
        "id": "h27ZSE8dKRkS"
      }
    },
    {
      "cell_type": "markdown",
      "source": [
        "---\n",
        "<font color=\"#1589FF\"><b>Timp estimat de parcurgere:</b> 30 min</font>\n",
        "\n",
        "---\n",
        "\n",
        "\n"
      ],
      "metadata": {
        "id": "jMkuLEXjAz56"
      }
    },
    {
      "cell_type": "markdown",
      "source": [
        "## <font color=\"#e8710a\">Mediul de programare Google Colab</font>\n",
        "\n",
        "**[Google Colab](https://colab.research.google.com/?utm_source=scs-index#scrollTo=-Rh3-Vt9Nev9)** este un mediu interactiv de programare în limbajul Python ce rulează direct în browser, fără a realiza vreo configurare pe mașina locală. Colab permite acces la resurse computaționale ce includ și putere de calcul grafic (GPU) și facilitează împărtășirea codului și colaborarea pentru redactarea acestuia.\n",
        "Singura cerință a Colab este ca utilizatorul să aibă asociat un cont Google. Notebook-urile create vor fi stocate automat în Google Drive într-un director creat automat și denumit `Colab Notebooks`.\n",
        "\n",
        "De asemenea, este important de reținut faptul că în momentul inițializării unei sesiuni de Colab, acesteia i se alocă o [mașină virtuală temporară](https://research.google.com/colaboratory/faq.html) și în cadrul căreia datele salvate (de exemplu fișiere încărcate în sesiune sau salvate prin intermediul codului, dar cu excepția notebook-ului) sunt șterse la încheierea sesiunii. Pentru a stoca date persistent, se poate realiza o [conexiune la Google Drive](https://colab.research.google.com/notebooks/io.ipynb), iar în acest mod conținutul acestuia devine disponibil în notebook și fișierele pot fi încărcate și salvate direct în Google Drive.\n",
        "\n",
        "Google Colab este o extensie a [IPython](https://ipython.org/) (Interactive Python) și a mediului [Jupyter Notebook](https://jupyter.org/). În cadrul acestui mediu, codul este structurat în fișiere denumite *notebook-uri* cu extensia `*.ipynb`. Un notebook conține una sau mai multe *celule* de execuție. O celulă de execuție conține una sau mai multe linii de cod ce pot fi executate individual. Ordinea de execuție a celulelor poate fi aleatoare, iar programatorul poate reveni și schimba celule anterioare fără a afecta starea codului per ansamblu sau fără a fi nevoit să ruleze întreg notebook-ul din nou. Evident celulele ce depind de celula modificată vor trebui rerulate pentru ca modificările să aibă efect.\n",
        "\n",
        "Celulele de cod sunt incluse în același domeniu de vizibilitate sau *namespace*. Acest lucru înseamnă că definirea unei variabile, funcții sau clase sau importul unui modul într-o celulă va face ca aceastea să fie disponibile și în restul celulelor din notebook-ul curent. Trebuie să subliniem faptul că în acest caz celulele trebuie rulate secvențial, în sensul că, dacă dorim să utilizăm o anumită variabilă, funcție, clasă sau modul, celula ce conține definirea lor trebuie rulată înainte de rularea celulelor ce modifică sau utilizează aceste componente ale codului.\n",
        "\n",
        "Între celulele de cod pot fi inserate celule de text cu note explicative asociate codului. Celulele text folosesc notația de tip [Markdown](https://www.markdownguide.org/), dar pot fi augmentate cu notație HTML sau [LaTex](https://www.latex-project.org/).\n",
        "\n",
        "Datorită flexibilității și ușurinței de utilizare, Google Colab a devenit principalul mediu de codare pentru limbajul Python, în special în aplicații de dezvoltare a algoritmilor de inteligență artificială și învățare automată."
      ],
      "metadata": {
        "id": "Vy0I6WF5LAva"
      }
    },
    {
      "cell_type": "markdown",
      "source": [
        "## <font color=\"#e8710a\">Primul cod Python</font>"
      ],
      "metadata": {
        "id": "6JvUVI1oiY7P"
      }
    },
    {
      "cell_type": "markdown",
      "source": [
        "În continuare vom rula o primă celulă de cod în Colab.\n",
        "Pentru a rula codul de mai jos se selectează celula și se apăsa butonul de rulare ce apare în stânga acesteia. Colab introduce și un set de scurtături de tastatură ce pot fi vizualizate din meniul *Tools -> Command Palette*. De exemplu, pentru rularea unei celule selectate se poate utiliza <kbd>CMD/CTRL+Enter</kbd>, <kbd>ALT/Option+Enter</kbd> sau <kbd>SHIFT+Enter</kbd>. Ultima combinație de taste realizează și avansarea către următoarea celulă din notebook. Combinați cu <kbd>ALT</kbd> va introduce automat o nouă celulă după cea curentă."
      ],
      "metadata": {
        "id": "UKWJCjWj_KTf"
      }
    },
    {
      "cell_type": "code",
      "source": [
        "# Primul exemplu de cod\n",
        "print('Salut!')"
      ],
      "metadata": {
        "id": "ArtJL3aliU7g",
        "colab": {
          "base_uri": "https://localhost:8080/"
        },
        "outputId": "bad79538-1cf9-4710-b965-70bd549a4020"
      },
      "execution_count": 2,
      "outputs": [
        {
          "output_type": "stream",
          "name": "stdout",
          "text": [
            "Salut!\n"
          ]
        }
      ]
    },
    {
      "cell_type": "markdown",
      "source": [
        "În codul de mai sus am apelat funcția `print()` către care am transmis șirul de caractere `Salut, Python!`. Se poate observa faptul că limbajul Python permite specificarea șirurilor de caractere folosind și ghilimele simple (apostrof), dar le fel de bine putem utiliza și ghilimele, rezultatul fiind același.\n"
      ],
      "metadata": {
        "id": "UWl6MxpP_6XC"
      }
    },
    {
      "cell_type": "code",
      "source": [
        "print(\"Salut, Python!\")"
      ],
      "metadata": {
        "colab": {
          "base_uri": "https://localhost:8080/"
        },
        "id": "8Bffq69SAUJR",
        "outputId": "0046d3e8-db69-48b5-8582-60b860d9bdb5"
      },
      "execution_count": null,
      "outputs": [
        {
          "output_type": "stream",
          "name": "stdout",
          "text": [
            "Salut, Python!\n"
          ]
        }
      ]
    },
    {
      "cell_type": "markdown",
      "source": [
        "Pentru a verifica faptul că într-adevăr cele două simboluri sunt interschimbabile, putem afișa tipul de date asociat acestor două versiuni de definire a șirului de caractere:\n"
      ],
      "metadata": {
        "id": "H_umAfPTAZ95"
      }
    },
    {
      "cell_type": "code",
      "source": [
        "# Funcția `type()` returnează tipul obiectului trimis ca parametru\n",
        "print(type(3))\n",
        "print(type(3.1515))"
      ],
      "metadata": {
        "colab": {
          "base_uri": "https://localhost:8080/"
        },
        "id": "5b8nGaTaAkal",
        "outputId": "17ef0744-84f6-4480-a569-04489c2c1775"
      },
      "execution_count": 6,
      "outputs": [
        {
          "output_type": "stream",
          "name": "stdout",
          "text": [
            "<class 'int'>\n",
            "<class 'float'>\n"
          ]
        }
      ]
    },
    {
      "cell_type": "markdown",
      "source": [
        "Observăm că ambele șiruri de caractere au asociată clasa `str`. Tot din acest exemplu putem observa una dintre cele mai importante caracteristici ale Python și anume că toate datele sunt obiecte. De exemplu și valorile întregi sau reale vor fi asociate claselor `int` și respectiv `float`:"
      ],
      "metadata": {
        "id": "htsOJQLmAv0v"
      }
    },
    {
      "cell_type": "code",
      "source": [
        "print(type(3))\n",
        "print(type(3.14))"
      ],
      "metadata": {
        "colab": {
          "base_uri": "https://localhost:8080/"
        },
        "id": "6Sh3OoaPBE94",
        "outputId": "a4c9fa7f-f868-4bff-87d6-b19844dd81e8"
      },
      "execution_count": null,
      "outputs": [
        {
          "output_type": "stream",
          "name": "stdout",
          "text": [
            "<class 'int'>\n",
            "<class 'float'>\n"
          ]
        }
      ]
    },
    {
      "cell_type": "markdown",
      "source": [
        "O facilitate utilă a mediului Colab și de altfel a mediului iPython este faptul că permite afișarea valorilor obiectelor definite anterior fără a utiliza funcția `print()` prin listarea numelor variabilelor pe care dorim să le afișăm. Este necesar ca această listare să fie ultima instrucțiune din celulă.  "
      ],
      "metadata": {
        "id": "EDycXALNDDZE"
      }
    },
    {
      "cell_type": "code",
      "source": [
        "a = 3\n",
        "b = 3.14\n",
        "c = 123123\n",
        "a, b, c"
      ],
      "metadata": {
        "colab": {
          "base_uri": "https://localhost:8080/"
        },
        "id": "PCaYLFUICpFO",
        "outputId": "2cf564ef-df9b-4d3a-ced1-a69168f4a6b1"
      },
      "execution_count": 10,
      "outputs": [
        {
          "output_type": "execute_result",
          "data": {
            "text/plain": [
              "(3, 3.14, 123123)"
            ]
          },
          "metadata": {},
          "execution_count": 10
        }
      ]
    },
    {
      "cell_type": "markdown",
      "source": [
        "Din exemplul anterior observăm că în limbajul Python nu este necesară specificarea anterioară a tipului variabilei, așa cum facem în limbajele C/C++ sau Java. Tipul variabilei este dedus automat din formatul valorii de inițializare a acesteia. De asemenea, acest lucru înseamnă că nu putem declara un obiect fără a-l inițializa, așa cum putem în C/C++ sau Java:\n",
        "\n",
        "```\n",
        "int a;\n",
        "a = 3;\n",
        "```\n",
        "\n",
        "Vom reveni mai în detaliu asupra acestor aspecte într-un tutorial viitor."
      ],
      "metadata": {
        "id": "5Z7-B_kWDLYu"
      }
    },
    {
      "cell_type": "markdown",
      "source": [
        "---\n",
        "## <font color=\"#e8710a\">Erori</font>\n",
        "\n",
        "Orice programator va face erori în codul scris, astfel încât este important să înțelegem tipurile de erori ce pot să apară și cum le putem rezolva. De exemplu, dacă ar fi să greșim numele funcției `print()`:"
      ],
      "metadata": {
        "id": "kO6C3-l-F8js"
      }
    },
    {
      "cell_type": "code",
      "source": [
        "# Generarea unei erori\n",
        "print(\"Salut, Python!\")"
      ],
      "metadata": {
        "colab": {
          "base_uri": "https://localhost:8080/"
        },
        "id": "7Os9wH0WGA_J",
        "outputId": "190ae9fe-baca-4ec9-9a71-665f896a96cf"
      },
      "execution_count": 12,
      "outputs": [
        {
          "output_type": "stream",
          "name": "stdout",
          "text": [
            "Salut, Python!\n"
          ]
        }
      ]
    },
    {
      "cell_type": "markdown",
      "source": [
        "Mesajul de eroare ne va informa asupra liniei din cadrul celulei la care această eroare apare precum și tipul acesteia, în cazul de față `NameError`, interpretorul nu recunoaște funcția `orint()` deoarece aceasta nu este în lista funcțiilor predefinite sau definite anterior de către programator.\n",
        "\n",
        "Sau, am putea uita să închidem parantezele apelului funcției:"
      ],
      "metadata": {
        "id": "2QhdZOLGGJ6g"
      }
    },
    {
      "cell_type": "code",
      "source": [
        "print(\"Salut, Python\")"
      ],
      "metadata": {
        "colab": {
          "base_uri": "https://localhost:8080/"
        },
        "id": "-wyTaAQFIaJZ",
        "outputId": "955a2c97-0058-4171-abae-8b55b3d4107d"
      },
      "execution_count": 13,
      "outputs": [
        {
          "output_type": "stream",
          "name": "stdout",
          "text": [
            "Salut, Python\n"
          ]
        }
      ]
    },
    {
      "cell_type": "markdown",
      "source": [
        "În acest caz avem o eroare de sintaxă care ne spune că pe linia 1 instrucțiunea nu este terminată corect."
      ],
      "metadata": {
        "id": "SBMOntTeIiGO"
      }
    },
    {
      "cell_type": "code",
      "source": [
        "# Eroare de sintaxă în cod multilinie\n",
        "print(\"Salut, Python\")\n",
        "print(\"Salut, Python\")"
      ],
      "metadata": {
        "colab": {
          "base_uri": "https://localhost:8080/"
        },
        "id": "N-qIozlFI_nG",
        "outputId": "bb120cb3-e603-4f20-a013-f4b1abc9e328"
      },
      "execution_count": 19,
      "outputs": [
        {
          "output_type": "stream",
          "name": "stdout",
          "text": [
            "Salut, Python\n",
            "Salut, Python\n"
          ]
        }
      ]
    },
    {
      "cell_type": "markdown",
      "source": [
        "În cazul în care avem mai multe linii de cod, mesajul de eroare ne va indica linia ulterioară celei în care există o problemă de sintaxă. Eroarea noastră este prezentă în linia 2, dar mesajul ne indică linia 3.\n",
        "\n",
        "Lista completă de erori definite în Python poate fi găsită pe [pagina oficială a documentației limbajului](https://docs.python.org/3/library/exceptions.html)."
      ],
      "metadata": {
        "id": "RAZhBPaKJA4g"
      }
    },
    {
      "cell_type": "markdown",
      "source": [
        "---\n",
        "## <font color=\"#e8710a\">Bibliografie/resurse utile</font>\n",
        "\n",
        "Python este unul dintre cele mai bine documentate limbaje de programare și în mod evident există extrem de multe resurse disponibile ce permit aprofundarea noțiunilor introduse de acesta. Mai jos enumerăm o listă de referințe și resurse pe care le considerăm cele mai utile, abordabile și extinse din lista completă a acestora:\n",
        "\n",
        "* [Learning Python, 5th Edition](https://www.oreilly.com/library/view/learning-python-5th/9781449355722/), Mark Lutz, O’Reilly, 2013\n",
        "\n",
        "* [Python Cookbook, 3rd Edition](https://www.oreilly.com/library/view/python-cookbook-3rd/9781449357337/), David Beazley, Brian Jones, O’Reilly, 2013\n",
        "\n",
        "* Python.org - https://www.python.org/ - site-ul oficial al limbajului\n",
        "\n",
        "* Python 3 Module of the Week- https://pymotw.com/3/\n",
        "\n",
        "* Cursuri online: [Coursera](https://www.coursera.org/specializations/python?utm_source=gg&utm_medium=sem&utm_campaign=06-PythonforEverybody-ROW&utm_content=B2C&campaignid=6493101579&adgroupid=81663482087&device=c&keyword=coursera%20python&matchtype=e&network=g&devicemodel=&adpostion=&creativeid=506841588365&hide_mobile_promo&gclid=Cj0KCQjwntCVBhDdARIsAMEwAClVekQzrBrj9E5qZok5HM8prBiAuiSHIjaCHBpXTE-Gu-vXWAS_BKQaAkBWEALw_wcB), [CodeAcademy](https://www.codecademy.com/catalog/language/python), [Udemy](https://www.udemy.com/topic/python/)"
      ],
      "metadata": {
        "id": "j2woNRFFiWjG"
      }
    },
    {
      "cell_type": "markdown",
      "source": [
        "---\n",
        "\n",
        "## <font color=\"#e8710a\">Concluzii</font>\n",
        "\n",
        "În acest prim tutorial de Python au fost introduse noțiunile minimale de utilizare a mediului Google Colab și de rulare a secvențelor de cod prin intermediul acestuia. În tutorialul următor vom introduce generalități ale limbajului Python și organizarea codului."
      ],
      "metadata": {
        "id": "r-3ZlQHHJnkp"
      }
    },
    {
      "cell_type": "markdown",
      "source": [
        "---\n",
        "\n",
        "\n",
        "##<font color=\"#1589FF\"> Exerciții</font>\n",
        "\n",
        "1) Afișați textul \"Salut, Ana!\". Modificați textul astfel încât să includă numele vostru.\n"
      ],
      "metadata": {
        "id": "zbiXwnSjHgT6"
      }
    },
    {
      "cell_type": "code",
      "source": [
        "## REZOLVARE EX. 1\n",
        "print('Salut, Ana!')"
      ],
      "metadata": {
        "id": "QwQHtnIteX6v",
        "outputId": "39e4a15a-9553-434a-df43-445a33ed27ca",
        "colab": {
          "base_uri": "https://localhost:8080/"
        }
      },
      "execution_count": 23,
      "outputs": [
        {
          "output_type": "stream",
          "name": "stdout",
          "text": [
            "Salut, Ana!\n"
          ]
        }
      ]
    },
    {
      "cell_type": "markdown",
      "source": [
        "2) Definiți o variabilă ce conține șirul de caractere \"Salut, Ana!\" și afișați mai apoi conținutul acestei variabile folosind funcția `print()` sau doar listarea ei.\n"
      ],
      "metadata": {
        "id": "z57BsKb4Lcb1"
      }
    },
    {
      "cell_type": "code",
      "source": [
        "## REZOLVARE EX. 2\n",
        "print(\"Salut, Ana!\")"
      ],
      "metadata": {
        "id": "OZtnQOKfLddD",
        "outputId": "ce346735-14ba-4710-8b46-47af4174cb3e",
        "colab": {
          "base_uri": "https://localhost:8080/"
        }
      },
      "execution_count": 27,
      "outputs": [
        {
          "output_type": "stream",
          "name": "stdout",
          "text": [
            "Salut, Ana!\n"
          ]
        }
      ]
    },
    {
      "cell_type": "markdown",
      "source": [
        "3) Verificați cu ajutorul funcției `type()` că variabila definită în exercițiul 2 are asociată clasa `str`, așadar este o variabilă de tip *șir de caractere*.\n"
      ],
      "metadata": {
        "id": "gZ69sMxbLdv4"
      }
    },
    {
      "cell_type": "code",
      "source": [
        "## REZOLVARE EX. 3\n",
        "print(type(\"Salut, Ana!\"))"
      ],
      "metadata": {
        "id": "85E2WMqCLfGk",
        "outputId": "1a86d2ae-67e6-44c5-d3f3-3d256e879913",
        "colab": {
          "base_uri": "https://localhost:8080/"
        }
      },
      "execution_count": 32,
      "outputs": [
        {
          "output_type": "stream",
          "name": "stdout",
          "text": [
            "<class 'str'>\n"
          ]
        }
      ]
    },
    {
      "cell_type": "markdown",
      "source": [
        "4) Redefiniți variabila de la exercițiul 2 folosind apostrof în loc de ghilimele și efectuați încă odată testul de la exercițiul 3.\n"
      ],
      "metadata": {
        "id": "80ZDKSEKLfYa"
      }
    },
    {
      "cell_type": "code",
      "source": [
        "## REZOLVARE EX. 4\n",
        "print(type('Salut, Ana!'))"
      ],
      "metadata": {
        "id": "8jMy9unBLhCL",
        "outputId": "2c9fb74a-ad01-4643-b992-2c38a0706260",
        "colab": {
          "base_uri": "https://localhost:8080/"
        }
      },
      "execution_count": 33,
      "outputs": [
        {
          "output_type": "stream",
          "name": "stdout",
          "text": [
            "<class 'str'>\n"
          ]
        }
      ]
    },
    {
      "cell_type": "markdown",
      "source": [
        "5) Definiți două variabile de tip întreg inițializate cu valorile 3 și 4 și afișați produsul lor."
      ],
      "metadata": {
        "id": "c3TjrKz0LhMs"
      }
    },
    {
      "cell_type": "code",
      "source": [
        "## REZOLVARE EX. 5\n",
        "a = 3\n",
        "b = 4\n",
        "a * b"
      ],
      "metadata": {
        "id": "iTV3S_1uLhyY",
        "outputId": "1c19abc5-dcb1-4b9f-b552-6f9c9abbda84",
        "colab": {
          "base_uri": "https://localhost:8080/"
        }
      },
      "execution_count": 39,
      "outputs": [
        {
          "output_type": "execute_result",
          "data": {
            "text/plain": [
              "12"
            ]
          },
          "metadata": {},
          "execution_count": 39
        }
      ]
    }
  ]
}